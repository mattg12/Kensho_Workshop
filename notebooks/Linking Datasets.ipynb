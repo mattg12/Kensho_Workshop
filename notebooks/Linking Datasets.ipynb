{
 "cells": [
  {
   "cell_type": "markdown",
   "metadata": {},
   "source": [
    "## Kensho Technologies Workshop - January 29th, 2019\n",
    "### Linking Datasets"
   ]
  },
  {
   "cell_type": "code",
   "execution_count": 10,
   "metadata": {},
   "outputs": [],
   "source": [
    "import numpy as np\n",
    "import pandas as pd\n",
    "import nltk"
   ]
  },
  {
   "cell_type": "code",
   "execution_count": 2,
   "metadata": {},
   "outputs": [],
   "source": [
    "ishares = pd.read_csv('../data/ai_meetup_data/ishares_companies.csv')\n",
    "wikidata = pd.read_csv('../data/ai_meetup_data/wikidata_companies.csv')\n",
    "labels = pd.read_csv('../data/ai_meetup_data/labeled_data.csv')"
   ]
  },
  {
   "cell_type": "code",
   "execution_count": 3,
   "metadata": {},
   "outputs": [
    {
     "data": {
      "text/html": [
       "<div>\n",
       "<style scoped>\n",
       "    .dataframe tbody tr th:only-of-type {\n",
       "        vertical-align: middle;\n",
       "    }\n",
       "\n",
       "    .dataframe tbody tr th {\n",
       "        vertical-align: top;\n",
       "    }\n",
       "\n",
       "    .dataframe thead th {\n",
       "        text-align: right;\n",
       "    }\n",
       "</style>\n",
       "<table border=\"1\" class=\"dataframe\">\n",
       "  <thead>\n",
       "    <tr style=\"text-align: right;\">\n",
       "      <th></th>\n",
       "      <th>ishares_id</th>\n",
       "      <th>Name</th>\n",
       "      <th>Country</th>\n",
       "      <th>Sector</th>\n",
       "      <th>Ticker</th>\n",
       "      <th>Market Value</th>\n",
       "    </tr>\n",
       "  </thead>\n",
       "  <tbody>\n",
       "    <tr>\n",
       "      <th>0</th>\n",
       "      <td>0</td>\n",
       "      <td>ENEL</td>\n",
       "      <td>Italy</td>\n",
       "      <td>Utilities</td>\n",
       "      <td>ENEL</td>\n",
       "      <td>35,606,728.17</td>\n",
       "    </tr>\n",
       "    <tr>\n",
       "      <th>1</th>\n",
       "      <td>1</td>\n",
       "      <td>ENI</td>\n",
       "      <td>Italy</td>\n",
       "      <td>Energy</td>\n",
       "      <td>ENI</td>\n",
       "      <td>30,934,624.17</td>\n",
       "    </tr>\n",
       "    <tr>\n",
       "      <th>2</th>\n",
       "      <td>2</td>\n",
       "      <td>INTESA SANPAOLO</td>\n",
       "      <td>Italy</td>\n",
       "      <td>Financials</td>\n",
       "      <td>ISP</td>\n",
       "      <td>25,171,216.82</td>\n",
       "    </tr>\n",
       "    <tr>\n",
       "      <th>3</th>\n",
       "      <td>3</td>\n",
       "      <td>UNICREDIT</td>\n",
       "      <td>Italy</td>\n",
       "      <td>Financials</td>\n",
       "      <td>UCG</td>\n",
       "      <td>17,460,161.24</td>\n",
       "    </tr>\n",
       "    <tr>\n",
       "      <th>4</th>\n",
       "      <td>4</td>\n",
       "      <td>ASSICURAZIONI GENERALI</td>\n",
       "      <td>Italy</td>\n",
       "      <td>Financials</td>\n",
       "      <td>G</td>\n",
       "      <td>11,332,119.83</td>\n",
       "    </tr>\n",
       "  </tbody>\n",
       "</table>\n",
       "</div>"
      ],
      "text/plain": [
       "   ishares_id                    Name Country      Sector Ticker  \\\n",
       "0           0                    ENEL   Italy   Utilities   ENEL   \n",
       "1           1                     ENI   Italy      Energy    ENI   \n",
       "2           2         INTESA SANPAOLO   Italy  Financials    ISP   \n",
       "3           3               UNICREDIT   Italy  Financials    UCG   \n",
       "4           4  ASSICURAZIONI GENERALI   Italy  Financials      G   \n",
       "\n",
       "    Market Value  \n",
       "0  35,606,728.17  \n",
       "1  30,934,624.17  \n",
       "2  25,171,216.82  \n",
       "3  17,460,161.24  \n",
       "4  11,332,119.83  "
      ]
     },
     "execution_count": 3,
     "metadata": {},
     "output_type": "execute_result"
    }
   ],
   "source": [
    "ishares.head()"
   ]
  },
  {
   "cell_type": "code",
   "execution_count": 4,
   "metadata": {},
   "outputs": [
    {
     "data": {
      "text/html": [
       "<div>\n",
       "<style scoped>\n",
       "    .dataframe tbody tr th:only-of-type {\n",
       "        vertical-align: middle;\n",
       "    }\n",
       "\n",
       "    .dataframe tbody tr th {\n",
       "        vertical-align: top;\n",
       "    }\n",
       "\n",
       "    .dataframe thead th {\n",
       "        text-align: right;\n",
       "    }\n",
       "</style>\n",
       "<table border=\"1\" class=\"dataframe\">\n",
       "  <thead>\n",
       "    <tr style=\"text-align: right;\">\n",
       "      <th></th>\n",
       "      <th>wikidata_id</th>\n",
       "      <th>item_title</th>\n",
       "      <th>country</th>\n",
       "    </tr>\n",
       "  </thead>\n",
       "  <tbody>\n",
       "    <tr>\n",
       "      <th>0</th>\n",
       "      <td>Q1191932</td>\n",
       "      <td>0verflow</td>\n",
       "      <td>NaN</td>\n",
       "    </tr>\n",
       "    <tr>\n",
       "      <th>1</th>\n",
       "      <td>Q4545742</td>\n",
       "      <td>1-2-3</td>\n",
       "      <td>Norway</td>\n",
       "    </tr>\n",
       "    <tr>\n",
       "      <th>2</th>\n",
       "      <td>Q4545758</td>\n",
       "      <td>1-800 Contacts</td>\n",
       "      <td>United States of America</td>\n",
       "    </tr>\n",
       "    <tr>\n",
       "      <th>3</th>\n",
       "      <td>Q4545749</td>\n",
       "      <td>1-800-FREE-411</td>\n",
       "      <td>United States of America</td>\n",
       "    </tr>\n",
       "    <tr>\n",
       "      <th>4</th>\n",
       "      <td>Q4545754</td>\n",
       "      <td>1-800-GOT-JUNK?</td>\n",
       "      <td>NaN</td>\n",
       "    </tr>\n",
       "  </tbody>\n",
       "</table>\n",
       "</div>"
      ],
      "text/plain": [
       "  wikidata_id       item_title                   country\n",
       "0    Q1191932         0verflow                       NaN\n",
       "1    Q4545742            1-2-3                    Norway\n",
       "2    Q4545758   1-800 Contacts  United States of America\n",
       "3    Q4545749   1-800-FREE-411  United States of America\n",
       "4    Q4545754  1-800-GOT-JUNK?                       NaN"
      ]
     },
     "execution_count": 4,
     "metadata": {},
     "output_type": "execute_result"
    }
   ],
   "source": [
    "wikidata.head()"
   ]
  },
  {
   "cell_type": "code",
   "execution_count": 5,
   "metadata": {},
   "outputs": [
    {
     "data": {
      "text/html": [
       "<div>\n",
       "<style scoped>\n",
       "    .dataframe tbody tr th:only-of-type {\n",
       "        vertical-align: middle;\n",
       "    }\n",
       "\n",
       "    .dataframe tbody tr th {\n",
       "        vertical-align: top;\n",
       "    }\n",
       "\n",
       "    .dataframe thead th {\n",
       "        text-align: right;\n",
       "    }\n",
       "</style>\n",
       "<table border=\"1\" class=\"dataframe\">\n",
       "  <thead>\n",
       "    <tr style=\"text-align: right;\">\n",
       "      <th></th>\n",
       "      <th>ishares_id</th>\n",
       "      <th>wikidata_id</th>\n",
       "    </tr>\n",
       "  </thead>\n",
       "  <tbody>\n",
       "    <tr>\n",
       "      <th>0</th>\n",
       "      <td>0</td>\n",
       "      <td>Q651222</td>\n",
       "    </tr>\n",
       "    <tr>\n",
       "      <th>1</th>\n",
       "      <td>1</td>\n",
       "      <td>Q565594</td>\n",
       "    </tr>\n",
       "    <tr>\n",
       "      <th>2</th>\n",
       "      <td>2</td>\n",
       "      <td>Q1343118</td>\n",
       "    </tr>\n",
       "    <tr>\n",
       "      <th>3</th>\n",
       "      <td>3</td>\n",
       "      <td>Q45568</td>\n",
       "    </tr>\n",
       "    <tr>\n",
       "      <th>4</th>\n",
       "      <td>4</td>\n",
       "      <td>Q670482</td>\n",
       "    </tr>\n",
       "  </tbody>\n",
       "</table>\n",
       "</div>"
      ],
      "text/plain": [
       "   ishares_id wikidata_id\n",
       "0           0     Q651222\n",
       "1           1     Q565594\n",
       "2           2    Q1343118\n",
       "3           3      Q45568\n",
       "4           4     Q670482"
      ]
     },
     "execution_count": 5,
     "metadata": {},
     "output_type": "execute_result"
    }
   ],
   "source": [
    "labels.head()"
   ]
  },
  {
   "cell_type": "markdown",
   "metadata": {},
   "source": [
    "### To Dos:\n",
    "\n",
    "1. What are differences in how names are written across datasets?\n",
    "2. Find 100 new links between the datasets\n",
    "3. Find 100 new entities in Dataset 1 not in Dataset 2"
   ]
  },
  {
   "cell_type": "code",
   "execution_count": 11,
   "metadata": {},
   "outputs": [
    {
     "data": {
      "text/html": [
       "<div>\n",
       "<style scoped>\n",
       "    .dataframe tbody tr th:only-of-type {\n",
       "        vertical-align: middle;\n",
       "    }\n",
       "\n",
       "    .dataframe tbody tr th {\n",
       "        vertical-align: top;\n",
       "    }\n",
       "\n",
       "    .dataframe thead th {\n",
       "        text-align: right;\n",
       "    }\n",
       "</style>\n",
       "<table border=\"1\" class=\"dataframe\">\n",
       "  <thead>\n",
       "    <tr style=\"text-align: right;\">\n",
       "      <th></th>\n",
       "      <th>wikidata_id</th>\n",
       "      <th>Name</th>\n",
       "      <th>Country</th>\n",
       "    </tr>\n",
       "  </thead>\n",
       "  <tbody>\n",
       "    <tr>\n",
       "      <th>0</th>\n",
       "      <td>Q1191932</td>\n",
       "      <td>0verflow</td>\n",
       "      <td>NaN</td>\n",
       "    </tr>\n",
       "    <tr>\n",
       "      <th>1</th>\n",
       "      <td>Q4545742</td>\n",
       "      <td>1-2-3</td>\n",
       "      <td>Norway</td>\n",
       "    </tr>\n",
       "    <tr>\n",
       "      <th>2</th>\n",
       "      <td>Q4545758</td>\n",
       "      <td>1-800 Contacts</td>\n",
       "      <td>United States of America</td>\n",
       "    </tr>\n",
       "    <tr>\n",
       "      <th>3</th>\n",
       "      <td>Q4545749</td>\n",
       "      <td>1-800-FREE-411</td>\n",
       "      <td>United States of America</td>\n",
       "    </tr>\n",
       "    <tr>\n",
       "      <th>4</th>\n",
       "      <td>Q4545754</td>\n",
       "      <td>1-800-GOT-JUNK?</td>\n",
       "      <td>NaN</td>\n",
       "    </tr>\n",
       "  </tbody>\n",
       "</table>\n",
       "</div>"
      ],
      "text/plain": [
       "  wikidata_id             Name                   Country\n",
       "0    Q1191932         0verflow                       NaN\n",
       "1    Q4545742            1-2-3                    Norway\n",
       "2    Q4545758   1-800 Contacts  United States of America\n",
       "3    Q4545749   1-800-FREE-411  United States of America\n",
       "4    Q4545754  1-800-GOT-JUNK?                       NaN"
      ]
     },
     "execution_count": 11,
     "metadata": {},
     "output_type": "execute_result"
    }
   ],
   "source": [
    "# rename columns of wikidata dataset to match relevant columns of ishares data\n",
    "wikidata.rename(columns={'item_title': 'Name', 'country': 'Country'}, inplace=True)\n",
    "wikidata.head()"
   ]
  },
  {
   "cell_type": "markdown",
   "metadata": {},
   "source": [
    "## Exploratory Data Analysis\n",
    "\n",
    "### 1. Metadata\n",
    "What can I learn about each dataset from the information given, before getting into any NLP or feature engineering?\n",
    "\n",
    "    -Country data\n",
    "    -Industry data\n",
    "    -Company Size\n",
    "    -Alphabetical Distribution"
   ]
  },
  {
   "cell_type": "code",
   "execution_count": 12,
   "metadata": {},
   "outputs": [
    {
     "name": "stdout",
     "output_type": "stream",
     "text": [
      "<class 'pandas.core.frame.DataFrame'>\n",
      "RangeIndex: 3836 entries, 0 to 3835\n",
      "Data columns (total 6 columns):\n",
      "ishares_id      3836 non-null int64\n",
      "Name            3836 non-null object\n",
      "Country         3836 non-null object\n",
      "Sector          3836 non-null object\n",
      "Ticker          3836 non-null object\n",
      "Market Value    3836 non-null object\n",
      "dtypes: int64(1), object(5)\n",
      "memory usage: 179.9+ KB\n"
     ]
    }
   ],
   "source": [
    "# ishares data\n",
    "ishares.info()"
   ]
  },
  {
   "cell_type": "code",
   "execution_count": 13,
   "metadata": {},
   "outputs": [
    {
     "data": {
      "text/html": [
       "<div>\n",
       "<style scoped>\n",
       "    .dataframe tbody tr th:only-of-type {\n",
       "        vertical-align: middle;\n",
       "    }\n",
       "\n",
       "    .dataframe tbody tr th {\n",
       "        vertical-align: top;\n",
       "    }\n",
       "\n",
       "    .dataframe thead th {\n",
       "        text-align: right;\n",
       "    }\n",
       "</style>\n",
       "<table border=\"1\" class=\"dataframe\">\n",
       "  <thead>\n",
       "    <tr style=\"text-align: right;\">\n",
       "      <th></th>\n",
       "      <th>ishares_id</th>\n",
       "      <th>Name</th>\n",
       "      <th>Country</th>\n",
       "      <th>Sector</th>\n",
       "      <th>Ticker</th>\n",
       "      <th>Market Value</th>\n",
       "    </tr>\n",
       "  </thead>\n",
       "  <tbody>\n",
       "    <tr>\n",
       "      <th>0</th>\n",
       "      <td>0</td>\n",
       "      <td>ENEL</td>\n",
       "      <td>Italy</td>\n",
       "      <td>Utilities</td>\n",
       "      <td>ENEL</td>\n",
       "      <td>35,606,728.17</td>\n",
       "    </tr>\n",
       "    <tr>\n",
       "      <th>1</th>\n",
       "      <td>1</td>\n",
       "      <td>ENI</td>\n",
       "      <td>Italy</td>\n",
       "      <td>Energy</td>\n",
       "      <td>ENI</td>\n",
       "      <td>30,934,624.17</td>\n",
       "    </tr>\n",
       "    <tr>\n",
       "      <th>2</th>\n",
       "      <td>2</td>\n",
       "      <td>INTESA SANPAOLO</td>\n",
       "      <td>Italy</td>\n",
       "      <td>Financials</td>\n",
       "      <td>ISP</td>\n",
       "      <td>25,171,216.82</td>\n",
       "    </tr>\n",
       "    <tr>\n",
       "      <th>3</th>\n",
       "      <td>3</td>\n",
       "      <td>UNICREDIT</td>\n",
       "      <td>Italy</td>\n",
       "      <td>Financials</td>\n",
       "      <td>UCG</td>\n",
       "      <td>17,460,161.24</td>\n",
       "    </tr>\n",
       "    <tr>\n",
       "      <th>4</th>\n",
       "      <td>4</td>\n",
       "      <td>ASSICURAZIONI GENERALI</td>\n",
       "      <td>Italy</td>\n",
       "      <td>Financials</td>\n",
       "      <td>G</td>\n",
       "      <td>11,332,119.83</td>\n",
       "    </tr>\n",
       "  </tbody>\n",
       "</table>\n",
       "</div>"
      ],
      "text/plain": [
       "   ishares_id                    Name Country      Sector Ticker  \\\n",
       "0           0                    ENEL   Italy   Utilities   ENEL   \n",
       "1           1                     ENI   Italy      Energy    ENI   \n",
       "2           2         INTESA SANPAOLO   Italy  Financials    ISP   \n",
       "3           3               UNICREDIT   Italy  Financials    UCG   \n",
       "4           4  ASSICURAZIONI GENERALI   Italy  Financials      G   \n",
       "\n",
       "    Market Value  \n",
       "0  35,606,728.17  \n",
       "1  30,934,624.17  \n",
       "2  25,171,216.82  \n",
       "3  17,460,161.24  \n",
       "4  11,332,119.83  "
      ]
     },
     "execution_count": 13,
     "metadata": {},
     "output_type": "execute_result"
    }
   ],
   "source": [
    "ishares.head()"
   ]
  },
  {
   "cell_type": "code",
   "execution_count": 20,
   "metadata": {},
   "outputs": [],
   "source": [
    "countries = ishares.Country.unique()"
   ]
  },
  {
   "cell_type": "code",
   "execution_count": 19,
   "metadata": {},
   "outputs": [
    {
     "data": {
      "text/plain": [
       "3836"
      ]
     },
     "execution_count": 19,
     "metadata": {},
     "output_type": "execute_result"
    }
   ],
   "source": [
    "for c in countries:\n",
    "    "
   ]
  },
  {
   "cell_type": "markdown",
   "metadata": {},
   "source": [
    "### Notes\n",
    "\n",
    "Ideas of how to break down into smaller categories:\n",
    "\n",
    "    -by country\n",
    "    -by first letter\n",
    "    -by number of words\n",
    "    -by wordmatch"
   ]
  },
  {
   "cell_type": "code",
   "execution_count": null,
   "metadata": {},
   "outputs": [],
   "source": []
  }
 ],
 "metadata": {
  "kernelspec": {
   "display_name": "Python [default]",
   "language": "python",
   "name": "python3"
  },
  "language_info": {
   "codemirror_mode": {
    "name": "ipython",
    "version": 3
   },
   "file_extension": ".py",
   "mimetype": "text/x-python",
   "name": "python",
   "nbconvert_exporter": "python",
   "pygments_lexer": "ipython3",
   "version": "3.6.5"
  }
 },
 "nbformat": 4,
 "nbformat_minor": 2
}
